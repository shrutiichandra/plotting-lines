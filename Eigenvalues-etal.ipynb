{
 "cells": [
  {
   "cell_type": "markdown",
   "metadata": {},
   "source": [
    "- eigen values\n",
    "- l2 norm\n",
    "- bounds of l2 norm\n",
    "- pd test\n",
    "- inverse of matrix\n",
    "- determinant\n",
    "- rank \n",
    "- LU decomposition\n",
    "- SVD\n",
    "- Sympy \n",
    "- concatenate matrices\n",
    "- Gram Schimdt"
   ]
  },
  {
   "cell_type": "code",
   "execution_count": 1,
   "metadata": {},
   "outputs": [],
   "source": [
    "import numpy as np\n",
    "from numpy import linalg as LA"
   ]
  },
  {
   "cell_type": "markdown",
   "metadata": {},
   "source": [
    "Eigen Value Function"
   ]
  },
  {
   "cell_type": "code",
   "execution_count": 1,
   "metadata": {},
   "outputs": [],
   "source": [
    "def find_eigenValues(A,lis=False):\n",
    "    if lis:\n",
    "        A = np.array(A)\n",
    "    w, v = LA.eig(A)\n",
    "#     print('matrix: ',A)\n",
    "#     print('values: ',w)\n",
    "#     print('vectors: ', v)\n",
    "    return w, v\n",
    "    "
   ]
  },
  {
   "cell_type": "code",
   "execution_count": 4,
   "metadata": {},
   "outputs": [],
   "source": [
    "matrix = [[6,18],[18,54]]\n",
    "vals, vectors = find_eigenValues(matrix,lis=True)"
   ]
  },
  {
   "cell_type": "markdown",
   "metadata": {},
   "source": [
    "L2 Norm"
   ]
  },
  {
   "cell_type": "code",
   "execution_count": 5,
   "metadata": {},
   "outputs": [
    {
     "name": "stdout",
     "output_type": "stream",
     "text": [
      "norm 1.224744871391589\n",
      "normalised v: [0.40824829 0.40824829 0.81649658]\n"
     ]
    }
   ],
   "source": [
    "v = [1/2.0,1/2.0,1]\n",
    "n = LA.norm(v)\n",
    "print(f'norm {n}')\n",
    "print(f'normalised v: {v/n}')"
   ]
  },
  {
   "cell_type": "markdown",
   "metadata": {},
   "source": [
    "Bounds for L2 L1 norm"
   ]
  },
  {
   "cell_type": "code",
   "execution_count": 5,
   "metadata": {},
   "outputs": [],
   "source": [
    "a = np.arange(9) - 4"
   ]
  },
  {
   "cell_type": "code",
   "execution_count": 6,
   "metadata": {},
   "outputs": [
    {
     "name": "stdout",
     "output_type": "stream",
     "text": [
      "[-4 -3 -2 -1  0  1  2  3  4]\n"
     ]
    }
   ],
   "source": [
    "print(a)"
   ]
  },
  {
   "cell_type": "code",
   "execution_count": 7,
   "metadata": {},
   "outputs": [
    {
     "name": "stdout",
     "output_type": "stream",
     "text": [
      "L2 norm:  7.745966692414834\n"
     ]
    }
   ],
   "source": [
    "L2 = LA.norm(a)\n",
    "print('L2 norm: ', L2)"
   ]
  },
  {
   "cell_type": "code",
   "execution_count": 8,
   "metadata": {},
   "outputs": [
    {
     "name": "stdout",
     "output_type": "stream",
     "text": [
      "L1 norm:  20.0\n"
     ]
    }
   ],
   "source": [
    "L1 = LA.norm(a,ord=1)\n",
    "print('L1 norm: ',L1)"
   ]
  },
  {
   "cell_type": "code",
   "execution_count": 9,
   "metadata": {},
   "outputs": [
    {
     "name": "stdout",
     "output_type": "stream",
     "text": [
      "upper bound:  23.237900077244504\n"
     ]
    }
   ],
   "source": [
    "root_a = np.sqrt(len(a))\n",
    "print(\"upper bound: \",root_a*L2)"
   ]
  },
  {
   "cell_type": "markdown",
   "metadata": {},
   "source": [
    "Positive Definite Test"
   ]
  },
  {
   "cell_type": "code",
   "execution_count": 6,
   "metadata": {},
   "outputs": [],
   "source": [
    "def test_pd(A):\n",
    "    A = np.array(A)\n",
    "    print(A)\n",
    "    if np.array_equal(A, A.T):\n",
    "        try:\n",
    "            LA.cholesky(A)\n",
    "            return True\n",
    "        except:\n",
    "            return False\n",
    "    else:\n",
    "        return False"
   ]
  },
  {
   "cell_type": "code",
   "execution_count": 7,
   "metadata": {},
   "outputs": [
    {
     "name": "stdout",
     "output_type": "stream",
     "text": [
      "[[1 2]\n",
      " [2 5]]\n"
     ]
    },
    {
     "data": {
      "text/plain": [
       "True"
      ]
     },
     "execution_count": 7,
     "metadata": {},
     "output_type": "execute_result"
    }
   ],
   "source": [
    "test_pd([[1,2],[2,5]])"
   ]
  },
  {
   "cell_type": "code",
   "execution_count": 8,
   "metadata": {},
   "outputs": [],
   "source": [
    "x = 3\n",
    "B = [[1,2,-1,-2],\n",
    "     [2,5,-2,-5],\n",
    "     [-1,-2,x*1,x*2],\n",
    "     [-2,-5,x*2,x*5]\n",
    "    ]"
   ]
  },
  {
   "cell_type": "code",
   "execution_count": 9,
   "metadata": {},
   "outputs": [
    {
     "name": "stdout",
     "output_type": "stream",
     "text": [
      "[[ 1  2 -1 -2]\n",
      " [ 2  5 -2 -5]\n",
      " [-1 -2  3  6]\n",
      " [-2 -5  6 15]]\n"
     ]
    },
    {
     "data": {
      "text/plain": [
       "True"
      ]
     },
     "execution_count": 9,
     "metadata": {},
     "output_type": "execute_result"
    }
   ],
   "source": [
    "test_pd(B)"
   ]
  },
  {
   "cell_type": "markdown",
   "metadata": {},
   "source": [
    "Inverse of Matrix"
   ]
  },
  {
   "cell_type": "code",
   "execution_count": 10,
   "metadata": {},
   "outputs": [],
   "source": [
    "A = np.array([[1,2],[3,4]])\n",
    "B = np.array([[4,9],[9,3]])"
   ]
  },
  {
   "cell_type": "code",
   "execution_count": 14,
   "metadata": {},
   "outputs": [
    {
     "name": "stdout",
     "output_type": "stream",
     "text": [
      "C_inv\n",
      "[[-0.07216495  0.11340206]\n",
      " [ 0.12371134 -0.05154639]]\n",
      "D\n",
      "[[-2.04347826  1.13043478]\n",
      " [ 1.63043478 -0.55797101]]\n"
     ]
    }
   ],
   "source": [
    "C = A+B\n",
    "C_inv = LA.inv(C)\n",
    "A_inv = LA.inv(A)\n",
    "B_inv = LA.inv(B)\n",
    "D = A_inv + B_inv\n",
    "print(f'C_inv\\n{C_inv}') #(A + B)^-1\n",
    "print(f'D\\n{D}') #A-1 + B-1"
   ]
  },
  {
   "cell_type": "markdown",
   "metadata": {},
   "source": [
    "Determinant"
   ]
  },
  {
   "cell_type": "code",
   "execution_count": 15,
   "metadata": {},
   "outputs": [
    {
     "data": {
      "text/plain": [
       "0.0"
      ]
     },
     "execution_count": 15,
     "metadata": {},
     "output_type": "execute_result"
    }
   ],
   "source": [
    "a = np.array([[1,1,0,0],\n",
    "               [0,0,1,1],\n",
    "              [-1,0,-1,0],\n",
    "              [0,-1,0,-1]\n",
    "             ])\n",
    "LA.det(a)"
   ]
  },
  {
   "cell_type": "markdown",
   "metadata": {},
   "source": [
    "Matrix Rank"
   ]
  },
  {
   "cell_type": "code",
   "execution_count": 16,
   "metadata": {},
   "outputs": [],
   "source": [
    "from numpy.linalg import matrix_rank"
   ]
  },
  {
   "cell_type": "code",
   "execution_count": 17,
   "metadata": {},
   "outputs": [],
   "source": [
    "m = np.array([[2,2,7],\n",
    "              [3,6,12],\n",
    "              [3,4,11]\n",
    "             ])"
   ]
  },
  {
   "cell_type": "code",
   "execution_count": 18,
   "metadata": {},
   "outputs": [
    {
     "name": "stdout",
     "output_type": "stream",
     "text": [
      "2\n"
     ]
    }
   ],
   "source": [
    "r1 = LA.matrix_rank(m)\n",
    "print(r1)"
   ]
  },
  {
   "cell_type": "markdown",
   "metadata": {},
   "source": [
    "LU decomposition"
   ]
  },
  {
   "cell_type": "code",
   "execution_count": 19,
   "metadata": {},
   "outputs": [],
   "source": [
    "import scipy.linalg as SC_LA"
   ]
  },
  {
   "cell_type": "code",
   "execution_count": 20,
   "metadata": {},
   "outputs": [],
   "source": [
    "mat = np.array([[2,5,6],\n",
    "                [0,1,5],\n",
    "                [3,9,4]\n",
    "               ])"
   ]
  },
  {
   "cell_type": "markdown",
   "metadata": {},
   "source": [
    "Matrix multiplication"
   ]
  },
  {
   "cell_type": "code",
   "execution_count": 21,
   "metadata": {},
   "outputs": [],
   "source": [
    "def multiply_mat(A,B,lis=False):\n",
    "    print('multiplying: ')\n",
    "    print(A)\n",
    "    print(B)\n",
    "    print('-----')\n",
    "    if lis:\n",
    "        A = np.array(A)\n",
    "        B = np.array(B)\n",
    "    C = np.matmul(A,B)\n",
    "    print('result: \\n{}\\n===='.format(C))\n",
    "    return C"
   ]
  },
  {
   "cell_type": "code",
   "execution_count": 22,
   "metadata": {},
   "outputs": [],
   "source": [
    "A = np.array([[2,1,1],[-5,-3,0],[1,1,-1]])\n",
    "# B = np.array([[2,5,6],[0,1,5],[0,0,-25/2]])"
   ]
  },
  {
   "cell_type": "code",
   "execution_count": 23,
   "metadata": {},
   "outputs": [
    {
     "name": "stdout",
     "output_type": "stream",
     "text": [
      "multiplying: \n",
      "[[ 2 -5  1]\n",
      " [ 1 -3  1]\n",
      " [ 1  0 -1]]\n",
      "[[ 2  1  1]\n",
      " [-5 -3  0]\n",
      " [ 1  1 -1]]\n",
      "-----\n",
      "result: \n",
      "[[30 18  1]\n",
      " [18 11  0]\n",
      " [ 1  0  2]]\n",
      "====\n"
     ]
    }
   ],
   "source": [
    "C = multiply_mat(A.T,A)"
   ]
  },
  {
   "cell_type": "code",
   "execution_count": 25,
   "metadata": {},
   "outputs": [],
   "source": [
    "vals_C , vectors_C = find_eigenValues(C)"
   ]
  },
  {
   "cell_type": "markdown",
   "metadata": {},
   "source": [
    "SVD decomposition"
   ]
  },
  {
   "cell_type": "code",
   "execution_count": 26,
   "metadata": {},
   "outputs": [
    {
     "name": "stdout",
     "output_type": "stream",
     "text": [
      "[[ 2  1  1]\n",
      " [-5 -3  0]\n",
      " [ 1  1 -1]]\n",
      "[[-0.35204116 -0.66272935  0.66095146]\n",
      " [ 0.91184354 -0.08349001  0.40195867]\n",
      " [-0.21120697  0.74419031  0.6336974 ]]\n",
      "[6.39312147 1.45479812 0.10751878]\n",
      "[[-0.85631205 -0.51598875 -0.02202902]\n",
      " [-0.11260554  0.22816293 -0.96708928]\n",
      " [-0.50403339  0.82564962  0.25348186]]\n"
     ]
    }
   ],
   "source": [
    "u, s, vh = LA.svd(A, full_matrices=False)\n",
    "print(A)\n",
    "print(u)\n",
    "print(s)\n",
    "print(vh)"
   ]
  },
  {
   "cell_type": "code",
   "execution_count": 27,
   "metadata": {},
   "outputs": [],
   "source": [
    "S = np.array([[6.393,0,0],\n",
    "              [0,1.471,0],\n",
    "              [0,0,0.107]]\n",
    "            )"
   ]
  },
  {
   "cell_type": "code",
   "execution_count": 28,
   "metadata": {},
   "outputs": [
    {
     "name": "stdout",
     "output_type": "stream",
     "text": [
      "multiplying: \n",
      "[[-0.35204116 -0.66272935  0.66095146]\n",
      " [ 0.91184354 -0.08349001  0.40195867]\n",
      " [-0.21120697  0.74419031  0.6336974 ]]\n",
      "[[6.393 0.    0.   ]\n",
      " [0.    1.471 0.   ]\n",
      " [0.    0.    0.107]]\n",
      "-----\n",
      "result: \n",
      "[[-2.25059911 -0.97487488  0.07072181]\n",
      " [ 5.82941575 -0.12281381  0.04300958]\n",
      " [-1.35024613  1.09470395  0.06780562]]\n",
      "====\n",
      "multiplying: \n",
      "[[-2.25059911 -0.97487488  0.07072181]\n",
      " [ 5.82941575 -0.12281381  0.04300958]\n",
      " [-1.35024613  1.09470395  0.06780562]]\n",
      "[[-0.85631205 -0.51598875 -0.02202902]\n",
      " [-0.11260554  0.22816293 -0.96708928]\n",
      " [-0.50403339  0.82564962  0.25348186]]\n",
      "-----\n",
      "result: \n",
      "[[ 2.00134531e+00  9.97244941e-01  1.01029622e+00]\n",
      " [-4.99964773e+00 -3.00042365e+00  1.25775901e-03]\n",
      " [ 9.98786014e-01  1.00246636e+00 -1.01174436e+00]]\n",
      "====\n",
      "[[ 2.00134531e+00  9.97244941e-01  1.01029622e+00]\n",
      " [-4.99964773e+00 -3.00042365e+00  1.25775901e-03]\n",
      " [ 9.98786014e-01  1.00246636e+00 -1.01174436e+00]]\n"
     ]
    }
   ],
   "source": [
    "x = multiply_mat(u,S)\n",
    "print(multiply_mat(x,vh))"
   ]
  },
  {
   "cell_type": "markdown",
   "metadata": {},
   "source": [
    "Simplify variables"
   ]
  },
  {
   "cell_type": "code",
   "execution_count": 2,
   "metadata": {},
   "outputs": [],
   "source": [
    "import sympy as sym"
   ]
  },
  {
   "cell_type": "code",
   "execution_count": 3,
   "metadata": {},
   "outputs": [],
   "source": [
    "a = sym.Symbol('a')\n",
    "p1 = sym.Symbol('p1')\n",
    "p2 = sym.Symbol('p2')\n",
    "q1 = sym.Symbol('q1')\n",
    "q2 = sym.Symbol('q2')"
   ]
  },
  {
   "cell_type": "code",
   "execution_count": 4,
   "metadata": {},
   "outputs": [],
   "source": [
    "y = -(a*(p1-q1)+q1)**2 + a*(p2-q2) + q2 - 1"
   ]
  },
  {
   "cell_type": "code",
   "execution_count": 13,
   "metadata": {},
   "outputs": [
    {
     "data": {
      "text/latex": [
       "$\\displaystyle a \\left(p_{2} - q_{2}\\right) + q_{2} - \\left(a \\left(p_{1} - q_{1}\\right) + q_{1}\\right)^{2} - 1$"
      ],
      "text/plain": [
       "a*(p2 - q2) + q2 - (a*(p1 - q1) + q1)**2 - 1"
      ]
     },
     "execution_count": 13,
     "metadata": {},
     "output_type": "execute_result"
    }
   ],
   "source": [
    "sym.simplify( y ,ratio=oo)"
   ]
  },
  {
   "cell_type": "code",
   "execution_count": 33,
   "metadata": {},
   "outputs": [],
   "source": [
    "x = sym.Symbol('x')\n",
    "c = sym.Symbol('c')\n",
    "d = sym.Symbol('d')"
   ]
  },
  {
   "cell_type": "code",
   "execution_count": 34,
   "metadata": {},
   "outputs": [
    {
     "data": {
      "text/latex": [
       "$\\displaystyle \\frac{\\left(d - 4\\right)^{2}}{5} + 25$"
      ],
      "text/plain": [
       "(d - 4)**2/5 + 25"
      ]
     },
     "execution_count": 34,
     "metadata": {},
     "output_type": "execute_result"
    }
   ],
   "source": [
    "sym.simplify( ((8-2*d)/5)**2 + ((d-4)/5)**2 + 25 )"
   ]
  },
  {
   "cell_type": "markdown",
   "metadata": {},
   "source": [
    "Dot product"
   ]
  },
  {
   "cell_type": "code",
   "execution_count": 37,
   "metadata": {},
   "outputs": [
    {
     "data": {
      "text/plain": [
       "26.666666666666668"
      ]
     },
     "execution_count": 37,
     "metadata": {},
     "output_type": "execute_result"
    }
   ],
   "source": [
    "a = [1,2,0]\n",
    "b = [2,37/3,5]\n",
    "np.dot(a,b)"
   ]
  },
  {
   "cell_type": "markdown",
   "metadata": {},
   "source": [
    "Concatenate matrices"
   ]
  },
  {
   "cell_type": "code",
   "execution_count": 29,
   "metadata": {},
   "outputs": [],
   "source": [
    "import random\n",
    "random.seed(42)"
   ]
  },
  {
   "cell_type": "code",
   "execution_count": 45,
   "metadata": {},
   "outputs": [],
   "source": [
    "np.random.seed(42)\n",
    "u1 = np.array(np.random.randint(0,4,3)).reshape(-1,1)\n",
    "u2 = np.array(np.random.randint(0,4,3)).reshape(-1,1)\n",
    "u3 = np.array(np.random.randint(0,4,3)).reshape(-1,1)"
   ]
  },
  {
   "cell_type": "code",
   "execution_count": 46,
   "metadata": {},
   "outputs": [
    {
     "data": {
      "text/plain": [
       "(3, 1)"
      ]
     },
     "execution_count": 46,
     "metadata": {},
     "output_type": "execute_result"
    }
   ],
   "source": [
    "u1.shape"
   ]
  },
  {
   "cell_type": "code",
   "execution_count": 47,
   "metadata": {},
   "outputs": [
    {
     "name": "stdout",
     "output_type": "stream",
     "text": [
      "[[2 2 0]\n",
      " [3 2 0]\n",
      " [0 3 2]]\n"
     ]
    }
   ],
   "source": [
    "U = np.concatenate((u1,u2,u3),axis=1)\n",
    "print(U)"
   ]
  },
  {
   "cell_type": "markdown",
   "metadata": {},
   "source": [
    "projection"
   ]
  },
  {
   "cell_type": "code",
   "execution_count": 51,
   "metadata": {},
   "outputs": [],
   "source": [
    "def projection(u,v):\n",
    "    num = np.dot(u,v)\n",
    "    den = np.dot(u,u)\n",
    "    ratio = num/den\n",
    "    return ratio*v"
   ]
  },
  {
   "cell_type": "code",
   "execution_count": 52,
   "metadata": {},
   "outputs": [],
   "source": [
    "def gramSchimdt(v1,v2,v3):\n",
    "    u1 = v1\n",
    "    u2 = v2 - projection(u1, v2)\n",
    "    u3 = v3 - projection(u1, v3) - projection(u2,v3)\n",
    "    return u1,u2,u3"
   ]
  },
  {
   "cell_type": "code",
   "execution_count": 122,
   "metadata": {},
   "outputs": [],
   "source": [
    "v1 = np.array([1,2,0])\n",
    "def makeV2(i):\n",
    "    v2 = np.array([2,i,5])\n",
    "    return v2\n",
    "v3 = np.array([0,5,3])"
   ]
  },
  {
   "cell_type": "code",
   "execution_count": 117,
   "metadata": {},
   "outputs": [],
   "source": [
    "def findUnitVector(u):\n",
    "    return u/LA.norm(u)"
   ]
  },
  {
   "cell_type": "code",
   "execution_count": 123,
   "metadata": {},
   "outputs": [],
   "source": [
    "def gramS(v1,v2,v3):\n",
    "    for i in range(-10,10,1):\n",
    "        v2 = makeV2(i)\n",
    "        print('v2: {}'.format(v2))\n",
    "        u1,u2,u3 = gramSchimdt(v1,v2,v3)\n",
    "        u1 = findUnitVector(u1)\n",
    "        u2 = findUnitVector(u2)\n",
    "        u3 = findUnitVector(u3)\n",
    "        \n",
    "        print(u1,u2,u3)\n",
    "        print('<--------->')"
   ]
  },
  {
   "cell_type": "code",
   "execution_count": 124,
   "metadata": {},
   "outputs": [
    {
     "name": "stdout",
     "output_type": "stream",
     "text": [
      "v2: [  2 -10   5]\n",
      "[0.4472136  0.89442719 0.        ] [ 0.17609018 -0.88045091  0.44022545] [ 0.         -0.85749293 -0.51449576]\n",
      "<--------->\n",
      "v2: [ 2 -9  5]\n",
      "[0.4472136  0.89442719 0.        ] [ 0.19069252 -0.85811633  0.47673129] [ 0.         -0.85749293 -0.51449576]\n",
      "<--------->\n",
      "v2: [ 2 -8  5]\n",
      "[0.4472136  0.89442719 0.        ] [ 0.20739034 -0.82956136  0.51847585] [ 0.         -0.85749293 -0.51449576]\n",
      "<--------->\n",
      "v2: [ 2 -7  5]\n",
      "[0.4472136  0.89442719 0.        ] [ 0.22645541 -0.79259392  0.56613852] [ 0.         -0.85749293 -0.51449576]\n",
      "<--------->\n",
      "v2: [ 2 -6  5]\n",
      "[0.4472136  0.89442719 0.        ] [ 0.24806947 -0.74420841  0.62017367] [ 0.         -0.85749293 -0.51449576]\n",
      "<--------->\n",
      "v2: [ 2 -5  5]\n",
      "[0.4472136  0.89442719 0.        ] [ 0.27216553 -0.68041382  0.68041382] [ 0.         -0.85749293 -0.51449576]\n",
      "<--------->\n",
      "v2: [ 2 -4  5]\n",
      "[0.4472136  0.89442719 0.        ] [ 0.2981424  -0.59628479  0.74535599] [ 0.         -0.85749293 -0.51449576]\n",
      "<--------->\n",
      "v2: [ 2 -3  5]\n",
      "[0.4472136  0.89442719 0.        ] [ 0.32444284 -0.48666426  0.81110711] [ 0.         -0.85749293 -0.51449576]\n",
      "<--------->\n",
      "v2: [ 2 -2  5]\n",
      "[0.4472136  0.89442719 0.        ] [ 0.34815531 -0.34815531  0.87038828] [ 0.         -0.85749293 -0.51449576]\n",
      "<--------->\n",
      "v2: [ 2 -1  5]\n",
      "[0.4472136  0.89442719 0.        ] [ 0.36514837 -0.18257419  0.91287093] [ 0.         -0.85749293 -0.51449576]\n",
      "<--------->\n",
      "v2: [2 0 5]\n",
      "[0.4472136  0.89442719 0.        ] [0.37139068 0.         0.92847669] [ 0.         -0.85749293 -0.51449576]\n",
      "<--------->\n",
      "v2: [2 1 5]\n",
      "[0.4472136  0.89442719 0.        ] [0.36514837 0.18257419 0.91287093] [ 0.         -0.85749293 -0.51449576]\n",
      "<--------->\n",
      "v2: [2 2 5]\n",
      "[0.4472136  0.89442719 0.        ] [-0.34815531 -0.34815531 -0.87038828] [0.         0.85749293 0.51449576]\n",
      "<--------->\n",
      "v2: [2 3 5]\n",
      "[0.4472136  0.89442719 0.        ] [-0.32444284 -0.48666426 -0.81110711] [0.         0.85749293 0.51449576]\n",
      "<--------->\n",
      "v2: [2 4 5]\n",
      "[0.4472136  0.89442719 0.        ] [-0.2981424  -0.59628479 -0.74535599] [ 0.         -0.85749293 -0.51449576]\n",
      "<--------->\n",
      "v2: [2 5 5]\n",
      "[0.4472136  0.89442719 0.        ] [-0.27216553 -0.68041382 -0.68041382] [ 0.         -0.85749293 -0.51449576]\n",
      "<--------->\n",
      "v2: [2 6 5]\n",
      "[0.4472136  0.89442719 0.        ] [-0.24806947 -0.74420841 -0.62017367] [ 0.         -0.85749293 -0.51449576]\n",
      "<--------->\n",
      "v2: [2 7 5]\n",
      "[0.4472136  0.89442719 0.        ] [-0.22645541 -0.79259392 -0.56613852] [ 0.         -0.85749293 -0.51449576]\n",
      "<--------->\n",
      "v2: [2 8 5]\n",
      "[0.4472136  0.89442719 0.        ] [-0.20739034 -0.82956136 -0.51847585] [ 0.         -0.85749293 -0.51449576]\n",
      "<--------->\n",
      "v2: [2 9 5]\n",
      "[0.4472136  0.89442719 0.        ] [-0.19069252 -0.85811633 -0.47673129] [ 0.         -0.85749293 -0.51449576]\n",
      "<--------->\n"
     ]
    }
   ],
   "source": [
    "gramS(v1,v2,v3)"
   ]
  }
 ],
 "metadata": {
  "kernelspec": {
   "display_name": "Python 3",
   "language": "python",
   "name": "python3"
  },
  "language_info": {
   "codemirror_mode": {
    "name": "ipython",
    "version": 3
   },
   "file_extension": ".py",
   "mimetype": "text/x-python",
   "name": "python",
   "nbconvert_exporter": "python",
   "pygments_lexer": "ipython3",
   "version": "3.8.2"
  }
 },
 "nbformat": 4,
 "nbformat_minor": 4
}
