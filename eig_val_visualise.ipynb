{
 "cells": [
  {
   "cell_type": "code",
   "execution_count": 1,
   "metadata": {},
   "outputs": [],
   "source": [
    "import numpy as np\n",
    "import matplotlib.pyplot as plt"
   ]
  },
  {
   "cell_type": "markdown",
   "metadata": {},
   "source": [
    "find eigen values of a matrix"
   ]
  },
  {
   "cell_type": "code",
   "execution_count": 2,
   "metadata": {},
   "outputs": [],
   "source": [
    "def find_eigenValues(A,lis=False):\n",
    "    if lis:\n",
    "        A = np.array(A)\n",
    "    eigen_val, eigen_vec = np.linalg.eig(A)\n",
    "\n",
    "    return eigen_val, eigen_vec"
   ]
  },
  {
   "cell_type": "markdown",
   "metadata": {},
   "source": [
    "example taken from https://lpsa.swarthmore.edu/MtrxVibe/EigMat/MatrixEigen.html"
   ]
  },
  {
   "cell_type": "code",
   "execution_count": 3,
   "metadata": {
    "scrolled": true
   },
   "outputs": [
    {
     "name": "stdout",
     "output_type": "stream",
     "text": [
      "[[ 0  1]\n",
      " [-2 -3]]\n",
      "eigen val: [-1. -2.]\n",
      "eigen vec: [[ 0.70710678 -0.4472136 ]\n",
      " [-0.70710678  0.89442719]]\n"
     ]
    }
   ],
   "source": [
    "A = np.array([[0,1],[-2,-3]])\n",
    "print(A)\n",
    "val, vec = find_eigenValues(A)\n",
    "'''\n",
    "The normalized (unit “length”) eigenvectors, \n",
    "such that the column v[:,i] is the eigenvector corresponding to the eigenvalue w[i].\n",
    "'''\n",
    "print('eigen val: {}\\neigen vec: {}'.format(val,vec))"
   ]
  },
  {
   "cell_type": "markdown",
   "metadata": {},
   "source": [
    "normalise a vector"
   ]
  },
  {
   "cell_type": "code",
   "execution_count": 4,
   "metadata": {},
   "outputs": [],
   "source": [
    "def normalize(v):\n",
    "    norm = np.linalg.norm(v)\n",
    "    v_n = v/norm\n",
    "    print(f'v {v}, ||v|| = {norm} v_n = {v_n}')\n",
    "    return v_n"
   ]
  },
  {
   "cell_type": "code",
   "execution_count": 5,
   "metadata": {},
   "outputs": [
    {
     "name": "stdout",
     "output_type": "stream",
     "text": [
      "v [ 1 -1], ||v|| = 1.4142135623730951 v_n = [ 0.70710678 -0.70710678]\n",
      "True [ 0.70710678 -0.70710678]\n",
      "v [-1  2], ||v|| = 2.23606797749979 v_n = [-0.4472136   0.89442719]\n",
      "True\n"
     ]
    }
   ],
   "source": [
    "e_0 = np.array([1,-1])\n",
    "e_1 = np.array([-1,2])\n",
    "print (np.all(normalize(e_0) == vec[:,0]), vec[:,0])\n",
    "print (np.all(normalize(e_1) == vec[:,1]))"
   ]
  },
  {
   "cell_type": "markdown",
   "metadata": {},
   "source": [
    "$A.v = \\lambda.v$"
   ]
  },
  {
   "cell_type": "code",
   "execution_count": 6,
   "metadata": {},
   "outputs": [
    {
     "name": "stdout",
     "output_type": "stream",
     "text": [
      "0\n",
      "larger_evec [ 0.70710678 -0.70710678]\n"
     ]
    }
   ],
   "source": [
    "larger_eval_idx = np.argmax(val)\n",
    "print(larger_eval_idx)\n",
    "larger_evec = vec[:, larger_eval_idx]\n",
    "print(f'larger_evec {larger_evec}')"
   ]
  },
  {
   "cell_type": "code",
   "execution_count": 7,
   "metadata": {},
   "outputs": [
    {
     "name": "stdout",
     "output_type": "stream",
     "text": [
      "[-0.70710678  0.70710678]\n"
     ]
    }
   ],
   "source": [
    "A_v = A.dot(larger_evec)\n",
    "print(A_v)"
   ]
  },
  {
   "cell_type": "code",
   "execution_count": 8,
   "metadata": {},
   "outputs": [
    {
     "name": "stdout",
     "output_type": "stream",
     "text": [
      "[-0.70710678  0.70710678]\n"
     ]
    }
   ],
   "source": [
    "val0_v = val[larger_eval_idx]*larger_evec\n",
    "print(val0_v)"
   ]
  },
  {
   "cell_type": "code",
   "execution_count": 9,
   "metadata": {},
   "outputs": [
    {
     "data": {
      "image/png": "[encoded data removed]",
      "text/plain": [
       "<Figure size 432x288 with 1 Axes>"
      ]
     },
     "metadata": {
      "needs_background": "light"
     },
     "output_type": "display_data"
    }
   ],
   "source": [
    "ub,lb = -5,5\n",
    "\n",
    "ax = plt.axes()\n",
    "ax.spines['left'].set_position('zero')\n",
    "ax.spines['right'].set_color('none')\n",
    "ax.spines['bottom'].set_position('zero')\n",
    "ax.spines['top'].set_color('none')\n",
    "plt.axis([ub, lb, ub, lb])\n",
    "\n",
    "# larger eigen vector, v\n",
    "a1 = ax.arrow(0, 0, larger_evec[0],larger_evec[1], head_width=0.2, head_length=0.1, fc='g', ec='g') \n",
    "\n",
    "# val0 = lambda_0 ; val0*v\n",
    "a2 = ax.arrow(0, 0, val0_v[0],val0_v[1], head_width=0.7, head_length=0.1, fc='b', ec='b')\n",
    "\n",
    "# A*v\n",
    "a3 = ax.arrow(0, 0, A_v[0],A_v[1], head_width=0.1, head_length=0.1, fc='r', ec='y') \n",
    "\n",
    "plt.legend([a1,a2,a3,], ['v',r'$\\lambda*v$',r'A*v'])\n",
    "plt.grid()\n",
    "plt.show()"
   ]
  }
 ],
 "metadata": {
  "kernelspec": {
   "display_name": "Python 3",
   "language": "python",
   "name": "python3"
  },
  "language_info": {
   "codemirror_mode": {
    "name": "ipython",
    "version": 3
   },
   "file_extension": ".py",
   "mimetype": "text/x-python",
   "name": "python",
   "nbconvert_exporter": "python",
   "pygments_lexer": "ipython3",
   "version": "3.8.2"
  }
 },
 "nbformat": 4,
 "nbformat_minor": 4
}
