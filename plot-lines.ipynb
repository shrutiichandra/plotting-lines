{
 "cells": [
  {
   "cell_type": "code",
   "execution_count": 2,
   "metadata": {},
   "outputs": [],
   "source": [
    "import matplotlib.pyplot as plt\n",
    "import numpy as np\n",
    "import itertools"
   ]
  },
  {
   "cell_type": "markdown",
   "metadata": {},
   "source": [
    "### find intersection point of 2 lines"
   ]
  },
  {
   "cell_type": "code",
   "execution_count": 1,
   "metadata": {},
   "outputs": [],
   "source": [
    "from fractions import Fraction\n",
    "\n",
    "def dec2frac(n):\n",
    "    return str(Fraction(n).limit_denominator())\n",
    "\n",
    "def intersect(L1, L2, verbose = True): # L1 coefficients of ax + by = c as a tuple (a,b,c)\n",
    "    flag = [False]*2\n",
    "    A1,B1,C1 = L1 #A1x + B1y = C1, A2x + B2y = C2\n",
    "    A2,B2,C2 = L2\n",
    "    \n",
    "    if verbose:\n",
    "        print('line 1: %f x + %f y = %f'%(A1,B1,C1))\n",
    "        print('line 2: %f x + %f y = %f'%(A2,B2,C2))\n",
    "    \n",
    "    # find determinant\n",
    "    det = A1*B2 - A2*B1\n",
    "\n",
    "    if det==0: #parallel lines, no intersection point\n",
    "        return -1,-1,-1\n",
    "    else:\n",
    "        x = (B2*C1 - B1*C2)/det + 0 # to make -0 -> +0\n",
    "        if not x.is_integer():\n",
    "            x1 = dec2frac(x)\n",
    "            # x1 = format(x, '.2f') #limit decimal to 2 places\n",
    "            flag[0] = True\n",
    "        y = (A1*C2 - A2*C1)/det + 0 \n",
    "        if not y.is_integer():\n",
    "            y1 = dec2frac(y)\n",
    "            # y1 = format(y, '.2f')\n",
    "            flag[1] = True\n",
    "        if all(f == False for f in flag):\n",
    "            # x and y both whole numbers\n",
    "            coord = '('+ str(x) +' ,'+ str(y)+')'\n",
    "        elif flag[0] and not flag[1]:\n",
    "            coord = '('+ str(x1) +' ,'+ str(y)+')'\n",
    "        elif not flag[0] and flag[1]:\n",
    "            coord = '('+ str(x) +' ,'+ str(y1) +')'\n",
    "        else:\n",
    "            coord = '('+ str(x1) +' ,'+ str(y1) +')'\n",
    "        \n",
    "        text = coord # The text of the annotation. \n",
    "        xy = (x,y) # The point (x,y) to annotate.\n",
    "        xytext = (x,y) # The position (x,y) to place the text at.\n",
    "        print('legend on graph: {}'.format(text))\n",
    "        return text, xy, xytext"
   ]
  },
  {
   "cell_type": "markdown",
   "metadata": {},
   "source": [
    "### plot lines from ax + by = c"
   ]
  },
  {
   "cell_type": "code",
   "execution_count": 3,
   "metadata": {},
   "outputs": [],
   "source": [
    "def plot_lines(a,b,c,x):\n",
    "    #x is a numpy array\n",
    "    #ax + by = c\n",
    "    if b == 0:\n",
    "        y = x\n",
    "    else:\n",
    "        y = (c - a*x)/b\n",
    "   \n",
    "    # format of equation to be printed\n",
    "    if a==1 and b!=1:\n",
    "        eqn = 'x1 + {b}x2 = {c}'.format(b=b,c=c)\n",
    "    if a!=1 and b==1:\n",
    "        eqn = '{a}x1 + x2 = {c}'.format(a=a,c=c)\n",
    "    if a == 0:\n",
    "        if b!=1:\n",
    "            eqn = '{b}x2 = {c}'.format(b=b,c=c)\n",
    "        else:\n",
    "            eqn = 'x2 = {c}'.format(c=c)\n",
    "    if b == 0:\n",
    "        if a != 1:\n",
    "            eqn = '{a}x1 = {c}'.format(a=a,c=c)\n",
    "        else:\n",
    "            eqn = ' x1 = {c}'.format(c=c)\n",
    "    if a!=0 and a!=1 and b!=0 and b!=1:\n",
    "        eqn = '{a}x1 + {b}x2 = {c}'.format(a=a,b=b,c=c)\n",
    "    \n",
    "    if a == 1 and b == 1:\n",
    "        eqn = 'x1 + x2 = {c}'.format(c=c)\n",
    "        \n",
    "        \n",
    "    return y,eqn"
   ]
  },
  {
   "cell_type": "code",
   "execution_count": 4,
   "metadata": {},
   "outputs": [],
   "source": [
    "maximum = -999999\n",
    "minimum = 999999\n",
    "def findUpperBound(xy):\n",
    "    global maximum\n",
    "    x, y = xy\n",
    "    if x > maximum:\n",
    "        maximum = x\n",
    "    if y > maximum:\n",
    "        maximum = y\n",
    "    return maximum\n",
    "\n",
    "def findLowerBound(xy):\n",
    "    global minimum\n",
    "    x, y = xy\n",
    "    if x < minimum:\n",
    "        minimum = x\n",
    "    if y < minimum:\n",
    "        minimum = y\n",
    "    return minimum"
   ]
  },
  {
   "cell_type": "code",
   "execution_count": 15,
   "metadata": {},
   "outputs": [],
   "source": [
    "from functools import reduce\n",
    "def plot_colour(lines,signs,filename='1.png'):\n",
    "    # lines: [(a1,b1,c1), (a2,b2,c2)...] #ax + by = c\n",
    "    # ub,lb: upper bound and lower bound for x axis\n",
    "    # signs : 1 => greater than ; -1 = > less than, 0 => equal to\n",
    "    fig, ax = plt.subplots(figsize=(10,12))\n",
    "    ub = 5\n",
    "    lb = 0\n",
    "    lines.append([0,1,0])\n",
    "    lines.append([1,0,0])\n",
    "    all_combinations = list(itertools.combinations(lines, 2))\n",
    "    for i in all_combinations:\n",
    "        text, xy , xytext = intersect(i[0],i[1], verbose = False)\n",
    "       \n",
    "        if text != xy and xy != xytext and text != -1:\n",
    "            ub = math.ceil(findUpperBound(xy))\n",
    "            lb = math.ceil(findLowerBound(xy))\n",
    "            ax.annotate( xy = xy, xytext = (-15, 25), textcoords='offset points')\n",
    "\n",
    "\n",
    "    print(\"(lb,ub): {lb}, {ub} \".format(lb=lb, ub=ub))\n",
    "\n",
    "    X = np.linspace(-10000, 10000, 10)\n",
    "    \n",
    "    \n",
    "    lines = lines[:-2]\n",
    "    \n",
    "    plt.axis([lb, ub, lb, ub]) # [xmin, xmax, ymin, ymax]\n",
    " \n",
    "    for [a,b,c] in lines:\n",
    "        Y, e = plot_lines(a,b,c,X) #y-line, e-equation\n",
    "        if b == 0:\n",
    "            X_ = np.full(len(X),c)\n",
    "            ax.plot(X_,Y,label=e)\n",
    "  \n",
    "        else:\n",
    "            ax.plot(X,Y,label=e)\n",
    "\n",
    "    list_ = []\n",
    "  # https://stackoverflow.com/questions/57017444/how-to-visualize-feasible-region-for-linear-programming-with-arbitrary-inequali\n",
    "    d = np.linspace(lb,ub,300)\n",
    "    x,y = np.meshgrid(d,d)\n",
    "    for i in range(len(signs)):\n",
    "        a,b,c = lines[i]\n",
    "        if signs[i] == -1: # -1 => less than\n",
    "            constraint = (b*y <= -a*x + c)\n",
    "            print(f'{b}*y <= {-a}*x + {c}')\n",
    "        elif signs[i] == 1:\n",
    "            constraint = (b*y >= -a*x + c)\n",
    "            print(f'{b}*y >= {-a}*x + {c}')\n",
    "        elif signs[i] == 0:\n",
    "            constraint = (b*y == -a*x + c)\n",
    "            print(f'{b}*y = {-a}*x + {c}')\n",
    "                  \n",
    "        list_.append(constraint)\n",
    "   \n",
    "    res = reduce(lambda x, y: x & y, list_) \n",
    "    \n",
    "    \n",
    "    print(len(res))\n",
    "    print(np.nonzero(res.astype(int)))\n",
    "    print(x.min(),x.max(),y.min(),y.max())\n",
    "    plt.imshow(res.astype(int), extent=(x.min(),x.max(),y.min(),y.max()),origin=\"lower\", cmap=\"Purples\", alpha = 0.3)\n",
    "\n",
    "    ax.spines['left'].set_position('zero')\n",
    "    ax.spines['right'].set_color('none')\n",
    "    ax.spines['bottom'].set_position('zero')\n",
    "    ax.spines['top'].set_color('none')\n",
    "    \n",
    "    plt.xlabel('x1')\n",
    "    plt.ylabel('x2')\n",
    "    plt.grid(linestyle='dashdot')\n",
    "    \n",
    "    # Add a Legend\n",
    "    plt.legend(loc='upper center')\n",
    "    plt.savefig(filename)"
   ]
  },
  {
   "cell_type": "code",
   "execution_count": 17,
   "metadata": {},
   "outputs": [
    {
     "name": "stdout",
     "output_type": "stream",
     "text": [
      "legend on graph: (1.0 ,0.0)\n",
      "legend on graph: (1.0 ,0.0)\n",
      "legend on graph: (0.0 ,1.0)\n",
      "legend on graph: (1.0 ,0.0)\n",
      "legend on graph: (0.0 ,-1.0)\n",
      "legend on graph: (0.0 ,0.0)\n",
      "(lb,ub): 0, 5 \n",
      "1*y = -1*x + 1\n",
      "-1*y = -1*x + 1\n",
      "300\n",
      "(array([], dtype=int64), array([], dtype=int64))\n",
      "0.0 5.0 0.0 5.0\n"
     ]
    },
    {
     "data": {
      "image/png": "[encoded data removed]",
      "text/plain": [
       "<Figure size 720x864 with 1 Axes>"
      ]
     },
     "metadata": {
      "needs_background": "light"
     },
     "output_type": "display_data"
    }
   ],
   "source": [
    "plot_colour([[ 1,1,1],[1,-1,1]],[0,0])"
   ]
  },
  {
   "cell_type": "markdown",
   "metadata": {},
   "source": [
    "### plot from 2 points"
   ]
  },
  {
   "cell_type": "code",
   "execution_count": 22,
   "metadata": {},
   "outputs": [],
   "source": [
    "def plot_from_point(P0, P1,ub,lb):\n",
    "    x = np.array(range(ub,lb))\n",
    "    fig, ax = plt.subplots(figsize=(8,6))\n",
    "    plt.axis([ub, lb, ub, lb])\n",
    "    x1, y1 = P0[0], P0[1]\n",
    "    x2, y2 = P1[0], P1[1]    \n",
    "    num = y2 - y1\n",
    "    den = x2 - x1\n",
    "    if num == 0:\n",
    "        y = y1\n",
    "        \n",
    "    \n",
    "    elif den == 0:\n",
    "        x = x1\n",
    "    \n",
    "    else:\n",
    "        slope = num/den\n",
    "        y = slope * (x - x1) + y1\n",
    "        ax.plot(x,y)\n",
    "    \n",
    "    ax.spines['left'].set_position('zero')\n",
    "    ax.spines['right'].set_color('none')\n",
    "    ax.spines['bottom'].set_position('zero')\n",
    "    ax.spines['top'].set_color('none')\n",
    "    plt.xlabel('x1')\n",
    "    plt.ylabel('x2')\n",
    "    plt.grid(linestyle='--')\n",
    "    print('slope: ',slope)\n",
    "    print('coefficient of x2: {}, x1: {}, c: {}'.format(1,-slope, -slope*x1+y1))\n"
   ]
  },
  {
   "cell_type": "code",
   "execution_count": 23,
   "metadata": {},
   "outputs": [
    {
     "name": "stdout",
     "output_type": "stream",
     "text": [
      "slope:  0.8\n",
      "coefficient of x2: 1, x1: -0.8, c: -1.2000000000000002\n"
     ]
    },
    {
     "data": {
      "image/png": "[encoded data removed]",
      "text/plain": [
       "<Figure size 576x432 with 1 Axes>"
      ]
     },
     "metadata": {
      "needs_background": "light"
     },
     "output_type": "display_data"
    }
   ],
   "source": [
    "plot_from_point((9,6),(4,2),-5,5)"
   ]
  }
 ],
 "metadata": {
  "kernelspec": {
   "display_name": "Python 3",
   "language": "python",
   "name": "python3"
  },
  "language_info": {
   "codemirror_mode": {
    "name": "ipython",
    "version": 3
   },
   "file_extension": ".py",
   "mimetype": "text/x-python",
   "name": "python",
   "nbconvert_exporter": "python",
   "pygments_lexer": "ipython3",
   "version": "3.8.2"
  }
 },
 "nbformat": 4,
 "nbformat_minor": 4
}
